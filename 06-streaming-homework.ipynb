{
 "cells": [
  {
   "cell_type": "markdown",
   "id": "d665f7c4-8605-43c4-a9a6-f5ab95e1492f",
   "metadata": {},
   "source": [
    "# Homework\n",
    "\n",
    "In this homework, we're going to learn about streaming with PyFlink.\n",
    "\n",
    "Instead of Kafka, we will use Red Panda, which is a drop-in\n",
    "replacement for Kafka. It implements the same interface, \n",
    "so we can use the Kafka library for Python for communicating\n",
    "with it, as well as use the Kafka connector in PyFlink.\n",
    "\n",
    "For this homework we will be using the Taxi data:\n",
    "- Green 2019-10 data from [here](https://github.com/DataTalksClub/nyc-tlc-data/releases/download/green/green_tripdata_2019-10.csv.gz)\n",
    "\n",
    "\n",
    "## Setup\n",
    "\n",
    "We need:\n",
    "\n",
    "- Red Panda\n",
    "- Flink Job Manager\n",
    "- Flink Task Manager\n",
    "- Postgres\n",
    "\n",
    "It's the same setup as in the [pyflink module](../../../06-streaming/pyflink/), so go there and start docker-compose:\n",
    "\n",
    "```bash\n",
    "cd ../../../06-streaming/pyflink/\n",
    "docker-compose up\n",
    "```\n",
    "\n",
    "(Add `-d` if you want to run in detached mode)\n",
    "\n",
    "Visit http://localhost:8081 to see the Flink Job Manager\n",
    "\n",
    "Connect to Postgres with pgcli, pg-admin, [DBeaver](https://dbeaver.io/) or any other tool.\n",
    "\n",
    "The connection credentials are:\n",
    "\n",
    "- Username `postgres`\n",
    "- Password `postgres`\n",
    "- Database `postgres`\n",
    "- Host `localhost`\n",
    "- Port `5432`\n",
    "\n",
    "With pgcli, you'll need to run this to connect:\n",
    "\n",
    "```bash\n",
    "pgcli -h localhost -p 5432 -u postgres -d postgres\n",
    "```\n",
    "\n",
    "Run these query to create the Postgres landing zone for the first events and windows:\n",
    "\n",
    "```sql \n",
    "CREATE TABLE processed_events (\n",
    "    test_data INTEGER,\n",
    "    event_timestamp TIMESTAMP\n",
    ");\n",
    "\n",
    "CREATE TABLE processed_events_aggregated (\n",
    "    event_hour TIMESTAMP,\n",
    "    test_data INTEGER,\n",
    "    num_hits INTEGER \n",
    ");\n",
    "```\n",
    "\n",
    "## Question 1: Redpanda version\n",
    "\n",
    "Now let's find out the version of redpandas. \n",
    "\n",
    "For that, check the output of the command `rpk help` _inside the container_. The name of the container is `redpanda-1`.\n",
    "\n",
    "Find out what you need to execute based on the `help` output.\n",
    "\n",
    "What's the version, based on the output of the command you executed? (copy the entire version)\n",
    "\n",
    "```%%bash\n",
    "$ rpk version\n",
    "Version:     v24.2.18\n",
    "Git ref:     f9a22d4430\n",
    "Build date:  2025-02-14T12:52:55Z\n",
    "OS/Arch:     linux/amd64\n",
    "Go version:  go1.23.1\n",
    "\n",
    "Redpanda Cluster\n",
    "  node-1  v24.2.18 - f9a22d443087b824803638623d6b7492ec8221f9\n",
    "```\n",
    "\n",
    "\n",
    "## Question 2. Creating a topic\n",
    "\n",
    "Before we can send data to the redpanda server, we\n",
    "need to create a topic. We do it also with the `rpk`\n",
    "command we used previously for figuring out the version of \n",
    "redpandas.\n",
    "\n",
    "Read the output of `help` and based on it, create a topic with name `green-trips` \n",
    "\n",
    "What's the output of the command for creating a topic? Include the entire output in your answer.\n",
    "\n",
    "```%%bash\n",
    "$ rpk topic create green-trips\n",
    "TOPIC        STATUS\n",
    "green-trips  OK\n",
    "```\n",
    "\n",
    "\n",
    "## Question 3. Connecting to the Kafka server\n",
    "\n",
    "We need to make sure we can connect to the server, so\n",
    "later we can send some data to its topics\n",
    "\n",
    "First, let's install the kafka connector (up to you if you\n",
    "want to have a separate virtual environment for that)\n",
    "\n",
    "```bash\n",
    "pip install kafka-python\n",
    "```\n",
    "\n",
    "You can start a jupyter notebook in your solution folder or\n",
    "create a script\n",
    "\n",
    "Let's try to connect to our server:\n",
    "\n",
    "```python\n",
    "import json\n",
    "\n",
    "from kafka import KafkaProducer\n",
    "\n",
    "def json_serializer(data):\n",
    "    return json.dumps(data).encode('utf-8')\n",
    "\n",
    "server = 'localhost:9092'\n",
    "\n",
    "producer = KafkaProducer(\n",
    "    bootstrap_servers=[server],\n",
    "    value_serializer=json_serializer\n",
    ")\n",
    "\n",
    "producer.bootstrap_connected()\n",
    "```\n",
    "\n",
    "Provided that you can connect to the server, what's the output\n",
    "of the last command?"
   ]
  },
  {
   "cell_type": "code",
   "execution_count": 1,
   "id": "38d1a648-09aa-4be5-81ad-74a7251f4efe",
   "metadata": {},
   "outputs": [],
   "source": [
    "import json"
   ]
  },
  {
   "cell_type": "code",
   "execution_count": 2,
   "id": "a19132d8-d791-4f49-b380-b0f0f5253ea5",
   "metadata": {},
   "outputs": [],
   "source": [
    "from kafka import KafkaProducer"
   ]
  },
  {
   "cell_type": "code",
   "execution_count": 3,
   "id": "005f3067-5f6e-4de4-83ff-0a7617f43010",
   "metadata": {},
   "outputs": [],
   "source": [
    "def json_serializer(data):\n",
    "    return json.dumps(data).encode('utf-8')"
   ]
  },
  {
   "cell_type": "code",
   "execution_count": 4,
   "id": "75d384f7-f49f-4022-a6d3-41983320768a",
   "metadata": {},
   "outputs": [],
   "source": [
    "server = 'localhost:9092'"
   ]
  },
  {
   "cell_type": "code",
   "execution_count": 5,
   "id": "ec825e93-af06-4250-a055-2b32839ce7d2",
   "metadata": {},
   "outputs": [],
   "source": [
    "producer = KafkaProducer(\n",
    "    bootstrap_servers=[server],\n",
    "    value_serializer=json_serializer\n",
    ")"
   ]
  },
  {
   "cell_type": "code",
   "execution_count": 6,
   "id": "e0df45cc-03cd-4413-b9a1-fc56573944e4",
   "metadata": {},
   "outputs": [
    {
     "data": {
      "text/plain": [
       "True"
      ]
     },
     "execution_count": 6,
     "metadata": {},
     "output_type": "execute_result"
    }
   ],
   "source": [
    "producer.bootstrap_connected()"
   ]
  },
  {
   "cell_type": "markdown",
   "id": "221b1332-7b8a-4cfa-8004-71cd61e78c8a",
   "metadata": {},
   "source": [
    "## Question 4: Sending the Trip Data\n",
    "\n",
    "Now we need to send the data to the `green-trips` topic\n",
    "\n",
    "Read the data, and keep only these columns:\n",
    "\n",
    "* `'lpep_pickup_datetime',`\n",
    "* `'lpep_dropoff_datetime',`\n",
    "* `'PULocationID',`\n",
    "* `'DOLocationID',`\n",
    "* `'passenger_count',`\n",
    "* `'trip_distance',`\n",
    "* `'tip_amount'`\n",
    "\n",
    "Now send all the data using this code:\n",
    "\n",
    "```python\n",
    "producer.send(topic_name, value=message)\n",
    "```\n",
    "\n",
    "For each row (`message`) in the dataset. In this case, `message`\n",
    "is a dictionary.\n",
    "\n",
    "After sending all the messages, flush the data:\n",
    "\n",
    "```python\n",
    "producer.flush()\n",
    "```\n",
    "\n",
    "Use `from time import time` to see the total time \n",
    "\n",
    "```python\n",
    "from time import time\n",
    "\n",
    "t0 = time()\n",
    "\n",
    "# ... your code\n",
    "\n",
    "t1 = time()\n",
    "took = t1 - t0\n",
    "```\n",
    "\n",
    "How much time did it take to send the entire dataset and flush?"
   ]
  },
  {
   "cell_type": "code",
   "execution_count": 7,
   "id": "f300d4a6-033c-4c5f-b872-5e8571901121",
   "metadata": {},
   "outputs": [],
   "source": [
    "from time import time"
   ]
  },
  {
   "cell_type": "code",
   "execution_count": 20,
   "id": "6ef54e34-aecc-43ba-b5e6-0be9cbcb9218",
   "metadata": {},
   "outputs": [],
   "source": [
    "import pandas as pd\n",
    "import csv"
   ]
  },
  {
   "cell_type": "code",
   "execution_count": 10,
   "id": "12804dfe-88a4-44f6-a4e4-955e82e7a3ff",
   "metadata": {},
   "outputs": [
    {
     "name": "stderr",
     "output_type": "stream",
     "text": [
      "C:\\Users\\Zelric\\AppData\\Local\\Temp\\ipykernel_11188\\283472855.py:1: DtypeWarning: Columns (3) have mixed types. Specify dtype option on import or set low_memory=False.\n",
      "  df = pd.read_csv('green_tripdata_2019-10.csv.gz')\n"
     ]
    },
    {
     "data": {
      "text/html": [
       "<div>\n",
       "<style scoped>\n",
       "    .dataframe tbody tr th:only-of-type {\n",
       "        vertical-align: middle;\n",
       "    }\n",
       "\n",
       "    .dataframe tbody tr th {\n",
       "        vertical-align: top;\n",
       "    }\n",
       "\n",
       "    .dataframe thead th {\n",
       "        text-align: right;\n",
       "    }\n",
       "</style>\n",
       "<table border=\"1\" class=\"dataframe\">\n",
       "  <thead>\n",
       "    <tr style=\"text-align: right;\">\n",
       "      <th></th>\n",
       "      <th>VendorID</th>\n",
       "      <th>lpep_pickup_datetime</th>\n",
       "      <th>lpep_dropoff_datetime</th>\n",
       "      <th>store_and_fwd_flag</th>\n",
       "      <th>RatecodeID</th>\n",
       "      <th>PULocationID</th>\n",
       "      <th>DOLocationID</th>\n",
       "      <th>passenger_count</th>\n",
       "      <th>trip_distance</th>\n",
       "      <th>fare_amount</th>\n",
       "      <th>extra</th>\n",
       "      <th>mta_tax</th>\n",
       "      <th>tip_amount</th>\n",
       "      <th>tolls_amount</th>\n",
       "      <th>ehail_fee</th>\n",
       "      <th>improvement_surcharge</th>\n",
       "      <th>total_amount</th>\n",
       "      <th>payment_type</th>\n",
       "      <th>trip_type</th>\n",
       "      <th>congestion_surcharge</th>\n",
       "    </tr>\n",
       "  </thead>\n",
       "  <tbody>\n",
       "    <tr>\n",
       "      <th>0</th>\n",
       "      <td>2.0</td>\n",
       "      <td>2019-10-01 00:26:02</td>\n",
       "      <td>2019-10-01 00:39:58</td>\n",
       "      <td>N</td>\n",
       "      <td>1.0</td>\n",
       "      <td>112</td>\n",
       "      <td>196</td>\n",
       "      <td>1.0</td>\n",
       "      <td>5.88</td>\n",
       "      <td>18.0</td>\n",
       "      <td>0.5</td>\n",
       "      <td>0.5</td>\n",
       "      <td>0.0</td>\n",
       "      <td>0.0</td>\n",
       "      <td>NaN</td>\n",
       "      <td>0.3</td>\n",
       "      <td>19.3</td>\n",
       "      <td>2.0</td>\n",
       "      <td>1.0</td>\n",
       "      <td>0.0</td>\n",
       "    </tr>\n",
       "  </tbody>\n",
       "</table>\n",
       "</div>"
      ],
      "text/plain": [
       "   VendorID lpep_pickup_datetime lpep_dropoff_datetime store_and_fwd_flag  \\\n",
       "0       2.0  2019-10-01 00:26:02   2019-10-01 00:39:58                  N   \n",
       "\n",
       "   RatecodeID  PULocationID  DOLocationID  passenger_count  trip_distance  \\\n",
       "0         1.0           112           196              1.0           5.88   \n",
       "\n",
       "   fare_amount  extra  mta_tax  tip_amount  tolls_amount  ehail_fee  \\\n",
       "0         18.0    0.5      0.5         0.0           0.0        NaN   \n",
       "\n",
       "   improvement_surcharge  total_amount  payment_type  trip_type  \\\n",
       "0                    0.3          19.3           2.0        1.0   \n",
       "\n",
       "   congestion_surcharge  \n",
       "0                   0.0  "
      ]
     },
     "execution_count": 10,
     "metadata": {},
     "output_type": "execute_result"
    }
   ],
   "source": [
    "df = pd.read_csv('green_tripdata_2019-10.csv.gz')\n",
    "df.head(1)"
   ]
  },
  {
   "cell_type": "code",
   "execution_count": 17,
   "id": "285f9213-4832-4545-8a5c-4d1922c28d80",
   "metadata": {},
   "outputs": [],
   "source": [
    "df = df[['lpep_pickup_datetime',\n",
    "'lpep_dropoff_datetime',\n",
    "'PULocationID',\n",
    "'DOLocationID',\n",
    "'passenger_count',\n",
    "'trip_distance',\n",
    "'tip_amount']]"
   ]
  },
  {
   "cell_type": "code",
   "execution_count": 18,
   "id": "0bb3bf56-6b4a-459c-857d-bd799db7aa5f",
   "metadata": {},
   "outputs": [],
   "source": [
    "df.to_csv('green_tripdata_2019-10.csv', index=False)"
   ]
  },
  {
   "cell_type": "code",
   "execution_count": 22,
   "id": "b7a32a54-a856-4218-a844-cd1427e46e94",
   "metadata": {},
   "outputs": [
    {
     "name": "stdout",
     "output_type": "stream",
     "text": [
      "took 39.05 seconds\n"
     ]
    }
   ],
   "source": [
    "csv_file = 'green_tripdata_2019-10.csv'  # change to your CSV file path if needed\n",
    "t0 = time()\n",
    "with open(csv_file, 'r', newline='', encoding='utf-8') as file:\n",
    "    reader = csv.DictReader(file)\n",
    "\n",
    "    for row in reader:\n",
    "        # Each row will be a dictionary keyed by the CSV headers\n",
    "        # Send data to Kafka topic \"green-trips\"\n",
    "        producer.send('green-trips', value=row)\n",
    "        \n",
    "producer.flush()\n",
    "t1 = time()\n",
    "\n",
    "print(f'took {(t1 - t0):.2f} seconds')"
   ]
  },
  {
   "cell_type": "markdown",
   "id": "6aac19cc-63f4-4ae1-82c8-8fd5175e7e61",
   "metadata": {},
   "source": [
    "## Question 5: Build a Sessionization Window (2 points)\n",
    "\n",
    "Now we have the data in the Kafka stream. It's time to process it.\n",
    "\n",
    "* Copy `aggregation_job.py` and rename it to `session_job.py`\n",
    "* Have it read from `green-trips` fixing the schema\n",
    "* Use a [session window](https://nightlies.apache.org/flink/flink-docs-master/docs/dev/datastream/operators/windows/) with a gap of 5 minutes\n",
    "* Use `lpep_dropoff_datetime` time as your watermark with a 5 second tolerance\n",
    "* Which pickup and drop off locations have the longest unbroken streak of taxi trips?"
   ]
  },
  {
   "cell_type": "code",
   "execution_count": null,
   "id": "4c108f4e-f099-4e93-80ee-32f922635c8b",
   "metadata": {},
   "outputs": [],
   "source": []
  },
  {
   "cell_type": "markdown",
   "id": "f8d0887e-66a2-4da6-96df-ddcb933b8453",
   "metadata": {},
   "source": [
    "## Submitting the solutions\n",
    "\n",
    "- Form for submitting: https://courses.datatalks.club/de-zoomcamp-2025/homework/hw6\n",
    "- Deadline: See the website"
   ]
  }
 ],
 "metadata": {
  "kernelspec": {
   "display_name": "Python 3 (ipykernel)",
   "language": "python",
   "name": "python3"
  },
  "language_info": {
   "codemirror_mode": {
    "name": "ipython",
    "version": 3
   },
   "file_extension": ".py",
   "mimetype": "text/x-python",
   "name": "python",
   "nbconvert_exporter": "python",
   "pygments_lexer": "ipython3",
   "version": "3.8.20"
  }
 },
 "nbformat": 4,
 "nbformat_minor": 5
}
